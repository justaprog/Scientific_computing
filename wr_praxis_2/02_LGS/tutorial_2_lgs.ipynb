{
 "cells": [
  {
   "cell_type": "markdown",
   "metadata": {
    "slideshow": {
     "slide_type": "slide"
    }
   },
   "source": [
    " <div class=\"text-center\">\n",
    "    <h1>Wissenschaftliches Rechnen WiSe 2020/21</h1>\n",
    "    <h2>Tutorium: Lineare Gleichungssysteme</h2>\n",
    "</div>"
   ]
  },
  {
   "cell_type": "markdown",
   "metadata": {
    "slideshow": {
     "slide_type": "slide"
    }
   },
   "source": [
    "<h2>Gliederung</h2>\n",
    "<ul>\n",
    "    <li>Lineare Gleichungssysteme</li>\n",
    "    <li>Motivation: Computertomographie</li>\n",
    "    <li>Lösen von linearen Gleichungssystemen</li>\n",
    "    <li>Laufzeit, Numerische Stabilität</li>\n",
    "</ul>"
   ]
  },
  {
   "cell_type": "markdown",
   "metadata": {
    "slideshow": {
     "slide_type": "slide"
    }
   },
   "source": [
    "<h2> Lineare Gleichungssysteme (in Normalform)</h2>\n",
    "<h3>Gegeben sind:</h3>\n",
    "<ul>\n",
    "    <li>Eine Menge von m <b>unbekannten</b> Variablen $x_1, ..., x_m$</li>\n",
    "    <li>Eine Menge von n Konstanten (oder Skalaren) $b_1, ..., b_n$</li>\n",
    "    <li>Eine Menge von $n \\cdot m$ Konstanten $a_{1,1}, ..., a_{n,m}$</li>\n",
    "</ul>"
   ]
  },
  {
   "cell_type": "markdown",
   "metadata": {
    "slideshow": {
     "slide_type": "fragment"
    }
   },
   "source": [
    "Ein <b>lineares Gleichungssystem in Normalform</b> sieht so aus:\n",
    "\n",
    "$$\n",
    "    a_{1,1} x_1 + ... + a_{1,m} x_m = b_1\\\\\n",
    "    \\vdots\\\\\n",
    "    \\underset{\\text{Lineare Funktionen}\\\\\\text{/ Linearkombinationen}}{\\underbrace{a_{n,1} x_1 + ... + a_{n,m} x_m}} = b_n\\\\\n",
    "$$"
   ]
  },
  {
   "cell_type": "markdown",
   "metadata": {
    "slideshow": {
     "slide_type": "fragment"
    }
   },
   "source": [
    "<h3>LGS nicht in Normalform:</h3>\n",
    "\n",
    "$$\n",
    "\\begin{aligned}\n",
    "    x_1 + 3 x_2 + x_3 &= 2 x_3\\\\\n",
    "    4 x_1 + x_3 - 1 &= 3 - 2x_2\\\\\n",
    "    x_3 &= 2 x_2 -1\n",
    "\\end{aligned}\n",
    "$$"
   ]
  },
  {
   "cell_type": "markdown",
   "metadata": {
    "slideshow": {
     "slide_type": "fragment"
    }
   },
   "source": [
    "<h3>Das gleiche LGS in Normalform:</h3>\n",
    "$$\n",
    "\\begin{aligned}\n",
    "   1 x_1 + 3 x_2 + (-1) x_3 &= 0\\\\\n",
    "    4 x_1 + 2x_2 + 1 x_3 &= 4\\\\\n",
    "    0x_1 + 2 x_2 + 1 x_3 &= -1\n",
    "\\end{aligned}\n",
    "$$"
   ]
  },
  {
   "cell_type": "markdown",
   "metadata": {
    "slideshow": {
     "slide_type": "subslide"
    }
   },
   "source": [
    "<h2> Lineare Gleichungssysteme in Matrixform </h2>\n",
    "<h3>Gegeben sind:</h3>\n",
    "<ul>\n",
    "    <li>Eine Menge von m <b>unbekannten</b> Variablen $x_1, ..., x_m$</li>\n",
    "    <li>Eine Menge von n Konstanten (oder Skalaren) $b_1, ..., b_n$</li>\n",
    "    <li>Eine Menge von $n \\cdot m$ Konstanten $a_{1,1}, ..., a_{n,m}$</li>\n",
    "</ul>"
   ]
  },
  {
   "cell_type": "markdown",
   "metadata": {
    "slideshow": {
     "slide_type": "fragment"
    }
   },
   "source": [
    "<p>\n",
    "Ein lineares Gleichungssystem, geschrieben als <b>Matrix-Vektor-Produkt</b> $(A x = b)$, sieht so aus:\n",
    "\n",
    "$$\n",
    "    \\begin{bmatrix}\n",
    "    a_{1,1} & ... & a_{1,m}\\\\\n",
    "    \\vdots & \\ddots & \\vdots\\\\\n",
    "    a_{n,1} & ... & a_{n,m}\\\\\n",
    "    \\end{bmatrix}\n",
    "    \\begin{bmatrix}\n",
    "    x_1\\\\\n",
    "    \\vdots\\\\\n",
    "    x_m\\\\\n",
    "    \\end{bmatrix}\n",
    "    =\n",
    "    \\begin{bmatrix}\n",
    "    b_1\\\\\n",
    "    \\vdots\\\\\n",
    "    b_n\\\\\n",
    "    \\end{bmatrix}\n",
    "$$"
   ]
  },
  {
   "cell_type": "markdown",
   "metadata": {
    "slideshow": {
     "slide_type": "fragment"
    }
   },
   "source": [
    "<h3>Erweiterte Koeffizientenmatrix:</h3>\n",
    "\n",
    "$$\n",
    "\\left[\n",
    "\\begin{matrix}\n",
    "  a_{1,1} & ... & a_{1,m}\\\\\n",
    "    \\vdots & \\ddots & \\vdots\\\\\n",
    "    a_{n,1} & ... & a_{n,m}\\\\\n",
    "\\end{matrix}\n",
    "\\left|\n",
    "    \\,\n",
    "    \\begin{matrix}\n",
    "      b_1  \\\\\n",
    "      \\vdots  \\\\\n",
    "      b_n  \\\\\n",
    "    \\end{matrix}\n",
    "  \\right.\n",
    "\\right]\n",
    "$$"
   ]
  },
  {
   "cell_type": "markdown",
   "metadata": {
    "slideshow": {
     "slide_type": "fragment"
    }
   },
   "source": [
    "<h3>LGS in Normalform als Matrix-Vektor-Produkt schreiben</h3>\n",
    "\n",
    "<h4>In Normalform:</h4>\n",
    "$$\n",
    "\\begin{aligned}\n",
    "   1 x_1 + 3 x_2 + (-1) x_3 &= 0\\\\\n",
    "    4 x_1 + 2x_2 + 1 x_3 &= 4\\\\\n",
    "    0x_1 + 2 x_2 + 1 x_3 &= -1\n",
    "\\end{aligned}\n",
    "$$"
   ]
  },
  {
   "cell_type": "markdown",
   "metadata": {
    "slideshow": {
     "slide_type": "fragment"
    }
   },
   "source": [
    "<h3>Als Matrix-Vektor-Produkt:</h3>\n",
    "$$\n",
    "\\begin{bmatrix}\n",
    "1 & 3 & -1\\\\\n",
    "4 & 2 & 1\\\\\n",
    "0 & 2 & 1\n",
    "\\end{bmatrix}\n",
    "\\begin{bmatrix}\n",
    "x_1\\\\\n",
    "x_2\\\\\n",
    "x_3\n",
    "\\end{bmatrix}\n",
    "=\n",
    "\\begin{bmatrix}\n",
    "0\\\\\n",
    "4\\\\\n",
    "-1\n",
    "\\end{bmatrix}\n",
    "$$"
   ]
  },
  {
   "cell_type": "markdown",
   "metadata": {
    "slideshow": {
     "slide_type": "fragment"
    }
   },
   "source": [
    "<h3>Als erweiterte Koeffizientenmatrix:</h3>\n",
    "    \n",
    "$$\n",
    "\\left[\n",
    "\\begin{matrix}\n",
    "1 & 3 & -1\\\\\n",
    "4 & 2 & 1\\\\\n",
    "0 & 2 & 1\n",
    "\\end{matrix}\n",
    "\\left|\n",
    "    \\,\n",
    "    \\begin{matrix}\n",
    "0\\\\\n",
    "4\\\\\n",
    "-1\n",
    "    \\end{matrix}\n",
    "  \\right.\n",
    "\\right]\n",
    "$$"
   ]
  },
  {
   "cell_type": "markdown",
   "metadata": {
    "slideshow": {
     "slide_type": "subslide"
    }
   },
   "source": [
    "<h2> Geometrische Interpretation eines LGS </h2>\n",
    "\n",
    "$$\n",
    "\\begin{align*}\n",
    "2x - y = 1\\\\\n",
    "x + y = 5\\\\\n",
    "\\end{align*}\n",
    "$$"
   ]
  },
  {
   "cell_type": "markdown",
   "metadata": {
    "slideshow": {
     "slide_type": "fragment"
    }
   },
   "source": [
    "<h3>Zeilen:</h3>\n",
    "<p> Schnittmenge der Hyperebenen \n",
    "    \n",
    "$$y = 2x - 1\\\\y = -x + 5$$"
   ]
  },
  {
   "cell_type": "markdown",
   "metadata": {
    "slideshow": {
     "slide_type": "fragment"
    }
   },
   "source": [
    "<img src=\"imgs/int1.png\" style=\"max-width:50%;margin-left:auto;margin-right:auto;\"/>"
   ]
  },
  {
   "cell_type": "markdown",
   "metadata": {
    "slideshow": {
     "slide_type": "fragment"
    }
   },
   "source": [
    "<h3>Spalten:</h3>\n",
    "<p> Linearkombination der Spaltenvektoren\n",
    "\n",
    "$$\n",
    "x\n",
    "\\begin{bmatrix}\n",
    "2\\\\1\n",
    "\\end{bmatrix}\n",
    "+\n",
    "y\n",
    "\\begin{bmatrix}\n",
    "-1\\\\1\n",
    "\\end{bmatrix}\n",
    "=\n",
    "\\begin{bmatrix}\n",
    "1\\\\5\n",
    "\\end{bmatrix}\n",
    "$$"
   ]
  },
  {
   "cell_type": "markdown",
   "metadata": {
    "slideshow": {
     "slide_type": "fragment"
    }
   },
   "source": [
    "<img src=\"imgs/int2.png\" style=\"max-width:50%;margin-left:auto;margin-right:auto;\"/>"
   ]
  },
  {
   "cell_type": "markdown",
   "metadata": {
    "slideshow": {
     "slide_type": "subslide"
    }
   },
   "source": [
    "<h2>Mögliche Anzahl an Lösungen</h2>\n",
    "\n",
    "Frage: Wie viele Lösungen kann ein LGS haben?"
   ]
  },
  {
   "cell_type": "markdown",
   "metadata": {
    "slideshow": {
     "slide_type": "fragment"
    }
   },
   "source": [
    "Möglich ist: Keine, genau eine oder unendlich viele<br><br>\n",
    "\n",
    "\n",
    "<div style=\"display:flex\">\n",
    "    <div><img src=\"imgs/anz1.png\" width=\"100%\" /></div>\n",
    "    <div><img src=\"imgs/anz2.png\" width=\"100%\" /></div>\n",
    "    <div><img src=\"imgs/anz3.png\" width=\"100%\" /></div>\n",
    "</div>"
   ]
  },
  {
   "cell_type": "markdown",
   "metadata": {
    "slideshow": {
     "slide_type": "fragment"
    }
   },
   "source": [
    "Was nicht möglich ist: 2, 50, 100.000, ..."
   ]
  },
  {
   "cell_type": "markdown",
   "metadata": {
    "slideshow": {
     "slide_type": "fragment"
    }
   },
   "source": [
    "<h2>Wovon hängt die Anzahl der Lösungen ab?</h2>\n",
    "\n",
    "<ul>\n",
    "    <li>Form der Matrix</li>\n",
    "    <li>Rang der Matrix</li>\n",
    "</ul>"
   ]
  },
  {
   "cell_type": "markdown",
   "metadata": {
    "slideshow": {
     "slide_type": "fragment"
    }
   },
   "source": [
    "$$\n",
    "    \\text{Rang}(A) = \\text{Anzahl linear unabhängiger Zeilen/Spalten von }A\n",
    "$$"
   ]
  },
  {
   "cell_type": "markdown",
   "metadata": {
    "slideshow": {
     "slide_type": "fragment"
    }
   },
   "source": [
    "$$\\text{Rang}(A) \\leq \\min{ \\{m,n\\}}$$"
   ]
  },
  {
   "cell_type": "markdown",
   "metadata": {
    "slideshow": {
     "slide_type": "fragment"
    }
   },
   "source": [
    "Wir sagen, dass $A$ <b>vollen Rang</b> hat, falls gilt:\n",
    "    \n",
    "$$\n",
    "    \\text{Rang}(A) = \\min \\{m,n\\}\n",
    "$$"
   ]
  },
  {
   "cell_type": "markdown",
   "metadata": {
    "slideshow": {
     "slide_type": "fragment"
    }
   },
   "source": [
    "<h3>Anzahl der Lösungen:</h3>\n",
    "\n",
    "<ul>\n",
    "    <li>$\\text{Rang}(A) = n = m$: 1 Lösung (quadratisches System)</li>\n",
    "    <li>$\\text{Rang}(A) = m < n$: Keine oder genau eine Lösung (überbestimmtes System)</li>\n",
    "    <li>$\\text{Rang}(A) = n < m$: Unendlich viele Lösungen (unterbestimmtes System)</li>\n",
    "    <li>$\\text{Rang}(A) < n, \\ \\text{Rang}(A) < m$: Keine oder unendlich viele Lösungen</li>\n",
    "</ul>"
   ]
  },
  {
   "cell_type": "markdown",
   "metadata": {
    "slideshow": {
     "slide_type": "fragment"
    }
   },
   "source": [
    "<h3>Interpretation:</h3>\n",
    "\n",
    "<div>\n",
    "  <table class=\"table\" style=\"width:80%\">\n",
    "    <thead>\n",
    "      <tr style=\"text-align:left\">\n",
    "        <th style=\"width:20%;text-align:left\"></th>\n",
    "        <th style=\"width:40%;text-align:left\">In Zeilen</th>\n",
    "        <th style=\"width:40%;text-align:left\">In Spalten</th>\n",
    "      </tr>\n",
    "    </thead>\n",
    "    <tbody>\n",
    "      <tr style=\"text-align:left\">\n",
    "        <td style=\"width:20%;text-align:left\">Keine Lösung</td>\n",
    "        <td style=\"width:40%;text-align:left\">Hyperebenen haben keine Schnittpunkte</td>\n",
    "        <td style=\"width:40%;text-align:left\">Vektor $b$ liegt nicht im Spaltenraum von $A$</td>\n",
    "      </tr>\n",
    "      <tr style=\"text-align:left\">\n",
    "        <td style=\"width:20%;text-align:left\">Genau eine Lösung</td>\n",
    "        <td style=\"width:40%;text-align:left\">Hyperebenen haben genau einen Schnittpunkt</td>\n",
    "        <td style=\"width:40%;text-align:left\">Genau eine Möglichkeit den Vektor $b$ mit Spaltenvektoren von $A$ linear zu kombinieren</td>\n",
    "      </tr>\n",
    "      <tr style=\"text-align:left\">\n",
    "        <td style=\"width:20%;text-align:left\">Unendlich viele Lösungen</td>\n",
    "        <td style=\"width:40%;text-align:left\">Hyperebenen haben Schnittgerade, Schnittebene, ...</td>\n",
    "        <td style=\"width:40%;text-align:left\">Unendlich viele Möglichkeiten den Vektor $b$ mit Spaltenvektoren von $A$ linear zu kombinieren</td>\n",
    "      </tr>\n",
    "    </tbody>\n",
    "  </table>\n",
    "</div>"
   ]
  },
  {
   "cell_type": "markdown",
   "metadata": {
    "slideshow": {
     "slide_type": "slide"
    }
   },
   "source": [
    "<div class=\"text-center\">\n",
    "    <h1>Computertomographie</h1>\n",
    "</div>"
   ]
  },
  {
   "cell_type": "markdown",
   "metadata": {
    "slideshow": {
     "slide_type": "subslide"
    }
   },
   "source": [
    "<ul>\n",
    "    <li>Ziel: Ins Gewebe hineinschauen</li>\n",
    "    <li>Materie schwächt Strahlung ab</li>\n",
    "    <li>Strahlung durch das Gewebe geschossen und Intensität gemssen</li>\n",
    "    <li>Rekonstruktion am Computer</li>\n",
    "</ul>"
   ]
  },
  {
   "cell_type": "markdown",
   "metadata": {
    "slideshow": {
     "slide_type": "fragment"
    }
   },
   "source": [
    "<h4>Problem:</h4>\n",
    "<ul> \n",
    "    <li>Es gibt unendlich viele mögliche Punkte im Gewebe</li>\n",
    "    <li>Das Gewebe ist kontinuierlich</li>\n",
    "</ul>"
   ]
  },
  {
   "cell_type": "markdown",
   "metadata": {
    "slideshow": {
     "slide_type": "fragment"
    }
   },
   "source": [
    "<h4>Lösung: Diskretisierung</h4>\n",
    "<img src=\"imgs/tomograph1.png\" width=\"100%\" style=\"margin-left:auto;margin-right:auto\">\n",
    "<p>Wir legen ein Gitter über das Gewebe und bestimmen die Dichte der Gitterelemente</p>\n",
    "Annahme: Die Dichte des Gewebes im Gitterelement ist konstant"
   ]
  },
  {
   "cell_type": "markdown",
   "metadata": {
    "slideshow": {
     "slide_type": "fragment"
    }
   },
   "source": [
    "Wir schießen Strahlen aus verschiedenen Richtungen\n",
    "\n",
    "<img src=\"imgs/tomograph2.png\" width=\"100%\" style=\"margin-left:auto;margin-right:auto\">\n"
   ]
  },
  {
   "cell_type": "markdown",
   "metadata": {
    "slideshow": {
     "slide_type": "fragment"
    }
   },
   "source": [
    "<h3>Wir wissen bzw. messen:</h3>\n",
    "<ul>\n",
    "    <li>$m$ ist die Anzahl der Gitterelemente</li>\n",
    "    <li>$c_1, ..., c_m$ unbekannten Dichten in den Gitterelementen $1, ..., m$</li>\n",
    "    <li>$n = m$ Strahlen (eher $n >> m$)</li>\n",
    "    <li>Ausgangsintensität $a$</li>\n",
    "    <li>Gemessene Intensitäten $g_1, ..., g_n$</li>\n",
    "    <li>Flugdistanz der Strahlen durch Gitterelemente $l_{i,j}$ für $i \\in \\{1,..,n\\}, \\ j \\in \\{1,..,m\\}$</li>\n",
    "</ul>"
   ]
  },
  {
   "cell_type": "markdown",
   "metadata": {
    "slideshow": {
     "slide_type": "fragment"
    }
   },
   "source": [
    "<h3>Beobachtung: Intensität hängt von Dichte und Länge des Gitterelements ab</h3>\n",
    "\n",
    "Für einen Strahl und ein Element:\n",
    "\n",
    "$$\n",
    "    g = c^l \\cdot a\n",
    "$$"
   ]
  },
  {
   "cell_type": "markdown",
   "metadata": {
    "slideshow": {
     "slide_type": "fragment"
    }
   },
   "source": [
    "Für mehrere Strahlen und Elemente:\n",
    "\n",
    "$$\n",
    "    g_i = \\underset{j = 1}{\\overset{m}{\\prod}} c_j^{l_{i,j}} \\cdot a = c_1^{l_{i, 1}} \\cdot ... \\cdot c_n^{l_{i,n}} \\cdot a\n",
    "$$"
   ]
  },
  {
   "cell_type": "markdown",
   "metadata": {
    "slideshow": {
     "slide_type": "subslide"
    }
   },
   "source": [
    "<h3>Wir erhalten dann ein Gleichungssystem:</h3>\n",
    "\n",
    "$$\n",
    "c_1^{l_{1,1}} \\cdot \\ ... \\ \\cdot c_m^{l_{1,m}} \\cdot a = g_1\\\\\n",
    "\\vdots\\\\\n",
    "c_n^{l_{n,1}} \\cdot \\ ... \\ \\cdot c_m^{l_{n,m}} \\cdot a = g_n\\\\\n",
    "$$"
   ]
  },
  {
   "cell_type": "markdown",
   "metadata": {
    "slideshow": {
     "slide_type": "fragment"
    }
   },
   "source": [
    "Das ist aber kein <b>lineares</b> Gleichungssystem!"
   ]
  },
  {
   "cell_type": "markdown",
   "metadata": {
    "slideshow": {
     "slide_type": "fragment"
    }
   },
   "source": [
    "$$\n",
    "\\Big\\downarrow\\\\\n",
    "c_1^{l_{1,1}} \\cdot \\ ... \\ \\cdot c_m^{l_{1,m}} = \\frac{g_1}{a}\\\\\n",
    "\\vdots\\\\\n",
    "c_n^{l_{n,1}} \\cdot \\ ... \\ \\cdot c_m^{l_{n,m}} = \\frac{g_n}{a}\\\\\n",
    "$$"
   ]
  },
  {
   "cell_type": "markdown",
   "metadata": {
    "slideshow": {
     "slide_type": "fragment"
    }
   },
   "source": [
    "$$\n",
    "    \\log(a \\cdot b) = \\log(a) + \\log(b)\\\\\n",
    "    \\log(a^{c}) = c \\cdot \\log(a)\n",
    "$$"
   ]
  },
  {
   "cell_type": "markdown",
   "metadata": {
    "slideshow": {
     "slide_type": "fragment"
    }
   },
   "source": [
    "$$\n",
    "\\Big\\downarrow\\\\\n",
    "l_{1,1}  \\log(c_1) + \\ ... \\ +  l_{1,m} \\log(c_m) = \\log\\left(\\frac{g_1}{a}\\right)\\\\\n",
    "\\vdots\\\\\n",
    "l_{n,1}  \\log(c_n) + \\ ... \\ + l_{n,m} \\log(c_m) = \\log\\left(\\frac{g_n}{a}\\right)\\\\\n",
    "$$"
   ]
  },
  {
   "cell_type": "markdown",
   "metadata": {
    "slideshow": {
     "slide_type": "fragment"
    }
   },
   "source": [
    "$$\n",
    "\\Big\\downarrow\\\\\n",
    "    \\begin{bmatrix}\n",
    "    l_{1,1} & ... & l_{1,m}\\\\\n",
    "    \\vdots & \\ddots & \\vdots\\\\\n",
    "    l_{n,1} & ... & l_{n,m}\\\\\n",
    "    \\end{bmatrix}\n",
    "    \\begin{bmatrix}\n",
    "    x_1 = \\log(c_1)\\\\\n",
    "    \\vdots\\\\\n",
    "    x_m = \\log(c_m)\\\\\n",
    "    \\end{bmatrix}\n",
    "    =\n",
    "    \\begin{bmatrix}\n",
    "    b_1 = \\log\\left(\\frac{g_1}{a}\\right)\\\\\n",
    "    \\vdots\\\\\n",
    "    b_n = \\log\\left(\\frac{g_n}{a}\\right)\\\\\n",
    "    \\end{bmatrix}\n",
    "$$"
   ]
  },
  {
   "cell_type": "markdown",
   "metadata": {
    "slideshow": {
     "slide_type": "slide"
    }
   },
   "source": [
    "<div class=\"text-center\">\n",
    "    <h1>Lösen von LGS Teil 1: Gauß-Algorithmus</h1>\n",
    "</div>"
   ]
  },
  {
   "cell_type": "markdown",
   "metadata": {
    "slideshow": {
     "slide_type": "subslide"
    }
   },
   "source": [
    "<h3>Gegeben:</h3>\n",
    "<ul>\n",
    "    <li>Matrix $A \\in \\mathbb{R}^{n \\times n}$</li>\n",
    "    <li>Vektor $b \\in \\mathbb{R}^n$</li>\n",
    "</ul>"
   ]
  },
  {
   "cell_type": "markdown",
   "metadata": {
    "slideshow": {
     "slide_type": "fragment"
    }
   },
   "source": [
    "<h3>Gesucht:</h3>\n",
    "<ul>\n",
    "    <li>Lösungsvektor $x \\in \\mathbb{R}^n$ mit</li>\n",
    "</ul>\n",
    "\n",
    "$$\n",
    "    A x = b\n",
    "$$\n"
   ]
  },
  {
   "cell_type": "markdown",
   "metadata": {
    "slideshow": {
     "slide_type": "subslide"
    }
   },
   "source": [
    "<h2>Zeilenstufenform / Dreiecksform</h2>\n",
    "<ol>\n",
    "    <li>Alle Nichtnullzeilen stehen oberhalb aller Nullzeilen</li>\n",
    "    <li>Ein Zeilenkopf steht stets in einer Spalte rechts vom Kopf der Zeile darüber</li>\n",
    "        (Kopf = Erstes Element einer Zeile ungleich 0)\n",
    "    <li>Alle Einträge unterhalb eines Kopfes sind Null.</li>\n",
    "</ol>"
   ]
  },
  {
   "cell_type": "markdown",
   "metadata": {
    "slideshow": {
     "slide_type": "fragment"
    }
   },
   "source": [
    "Für quadratische Matrizen: <b>Obere Dreiecksmatrix</b>\n",
    "\n",
    "$$\n",
    "    \\begin{bmatrix}\n",
    "    a_{1,1} & a_{1,2} &... & a_{1,n}\\\\\n",
    "    0 & a_{2,2} & ... & a_{2,n}\\\\\n",
    "    \\vdots & \\vdots & \\ddots & \\vdots\\\\\n",
    "    0 & 0 &... & a_{n,n}\\\\\n",
    "    \\end{bmatrix}\n",
    "$$"
   ]
  },
  {
   "cell_type": "markdown",
   "metadata": {
    "slideshow": {
     "slide_type": "fragment"
    }
   },
   "source": [
    "<h3>Matrizen in Zeilenstufenform bringen</h3>\n",
    "\n",
    "<b>Nur drei elementare Operationen:</b>\n",
    "<ol>\n",
    "    <li>Zeilen vertauschen</li>\n",
    "    <li>Zeilen mit Skalar ungleich Null multiplizieren</li>\n",
    "    <li>Ein Vielfaches einer Zeile zu einer anderen Zeile addieren</li>\n",
    "</ol>"
   ]
  },
  {
   "cell_type": "markdown",
   "metadata": {
    "slideshow": {
     "slide_type": "subslide"
    }
   },
   "source": [
    "<h2>Gauß-Algorithmus</h2>\n",
    "$$\n",
    "    \\begin{bmatrix}\n",
    "    a_{1,1} & a_{1,2} & ... & a_{1,n}\\\\\n",
    "    a_{2,1} & a_{2,2} & ... & a_{2,n}\\\\\n",
    "    \\vdots & \\vdots & \\ddots & \\vdots\\\\\n",
    "    a_{n,1} & a_{n,2} & ... & a_{n,n}\\\\\n",
    "    \\end{bmatrix}\n",
    "$$"
   ]
  },
  {
   "cell_type": "markdown",
   "metadata": {
    "slideshow": {
     "slide_type": "fragment"
    }
   },
   "source": [
    "Alle Elemente unter der Diagonalen eliminieren:\n",
    "\n",
    "$$\n",
    "    \\begin{bmatrix}\n",
    "    a_{1,1} & a_{1,2} & ... & a_{1,n}\\\\\n",
    "    \\color{red}{a_{2,1}} & a_{2,2} & ... & a_{2,n}\\\\\n",
    "     \\color{red}{\\vdots} &  \\color{red}{\\vdots} & \\ddots & \\vdots\\\\\n",
    "     \\color{red}{a_{n,1}} &  \\color{red}{a_{n,2}} &  \\color{red}{...} & a_{n,n}\\\\\n",
    "    \\end{bmatrix}\n",
    "$$"
   ]
  },
  {
   "cell_type": "markdown",
   "metadata": {
    "slideshow": {
     "slide_type": "fragment"
    }
   },
   "source": [
    "Beispiel ($4 \\times 4$ Matrix):\n",
    "\n",
    "$$\n",
    "    \\begin{bmatrix}\n",
    "    a_{1,1} & a_{1,2} & a_{1,3} & a_{1,4}\\\\\n",
    "    \\color{red}{a_{2,1}} & a_{2,2} & a_{2,3} & a_{2,4}\\\\\n",
    "     \\color{red}{a_{3,1}} &  \\color{red}{a_{3,2}} & a_{3,3} & a_{3,4}\\\\\n",
    "     \\color{red}{a_{4,1}} &  \\color{red}{a_{4,2}} &  \\color{red}{a_{4,3}} & a_{4,4}\\\\\n",
    "    \\end{bmatrix}\n",
    "$$"
   ]
  },
  {
   "cell_type": "markdown",
   "metadata": {
    "slideshow": {
     "slide_type": "fragment"
    }
   },
   "source": [
    "Reihenfolge:\n",
    "\n",
    "$$\n",
    "    \\begin{bmatrix}\n",
    "    a_{1,1} & a_{1,2} & a_{1,3} & a_{1,4}\\\\\n",
    "    \\color{blue}{(1)} \\ \\color{red}{a_{2,1}}& a_{2,2} & a_{2,3} & a_{2,4}\\\\\n",
    "     \\color{blue}{(2)} \\ \\color{red}{a_{3,1}} & \\color{blue}{(4)} \\ \\color{red}{a_{3,2}} & a_{3,3} & a_{3,4}\\\\\n",
    "    \\color{blue}{(3)} \\ \\color{red}{a_{4,1}} & \\color{blue}{(5)} \\ \\color{red}{a_{4,2}} & \\color{blue}{(6)} \\ \\color{red}{a_{4,3}} & a_{4,4}\\\\\n",
    "    \\end{bmatrix}\n",
    "$$"
   ]
  },
  {
   "cell_type": "markdown",
   "metadata": {
    "slideshow": {
     "slide_type": "fragment"
    }
   },
   "source": [
    "Und wie eliminieren?"
   ]
  },
  {
   "cell_type": "markdown",
   "metadata": {
    "slideshow": {
     "slide_type": "fragment"
    }
   },
   "source": [
    "$$\n",
    "    \\begin{bmatrix}\n",
    "    \\color{blue}{a_{1,1}} & a_{1,2} & a_{1,3} & a_{1,4}\\\\\n",
    "    \\color{red}{a_{2,1}} & a_{2,2} & a_{2,3} & a_{2,4}\\\\\n",
    "     \\color{red}{a_{3,1}} &  a_{3,2} & a_{3,3} & a_{3,4}\\\\\n",
    "     \\color{red}{a_{4,1}} &  a_{4,2} &  a_{4,3} & a_{4,4}\\\\\n",
    "    \\end{bmatrix}\n",
    "$$"
   ]
  },
  {
   "cell_type": "markdown",
   "metadata": {
    "slideshow": {
     "slide_type": "fragment"
    }
   },
   "source": [
    "$$\n",
    "    \\begin{bmatrix}\n",
    "    \\color{blue}{a_{1,1}} & a_{1,2} & a_{1,3} & a_{1,4}\\\\\n",
    "    \\color{red}{0} & a_{2,2} - \\frac{\\color{red}{a_{2,1}}}{\\color{blue}{a_{1,1}}} a_{1,2} & a_{2,3}- \\frac{\\color{red}{a_{2,1}}}{\\color{blue}{a_{1,1}}} a_{1,3} & a_{2,4} - \\frac{\\color{red}{a_{2,1}}}{\\color{blue}{a_{1,1}}} a_{1,4}\\\\\n",
    "    \\color{red}{0} &  a_{3,2} - \\frac{\\color{red}{a_{3,1}}}{\\color{blue}{a_{1,1}}} a_{1,2} & a_{3,3} - \\frac{\\color{red}{a_{3,1}}}{\\color{blue}{a_{1,1}}} a_{1,3} & a_{3,4} - \\frac{\\color{red}{a_{3,1}}}{\\color{blue}{a_{1,1}}} a_{1,4} \\\\\n",
    "    \\color{red}{0} &  a_{4,2} - \\frac{\\color{red}{a_{4,1}}}{\\color{blue}{a_{1,1}}} a_{1,2} &  a_{4,3} - \\frac{\\color{red}{a_{4,1}}}{\\color{blue}{a_{1,1}}} a_{1,3} & a_{4,4} - \\frac{\\color{red}{a_{4,1}}}{\\color{blue}{a_{1,1}}} a_{1,4}\\\\\n",
    "    \\end{bmatrix}\n",
    "    \\quad\n",
    "    \\begin{bmatrix}\n",
    "    b_1\\\\\n",
    "    b_2 - \\frac{\\color{red}{a_{2,1}}}{\\color{blue}{a_{1,1}}} b_1\\\\\n",
    "    b_3 - \\frac{\\color{red}{a_{3,1}}}{\\color{blue}{a_{1,1}}} b_1\\\\\n",
    "    b_4 - \\frac{\\color{red}{a_{4,1}}}{\\color{blue}{a_{1,1}}} b_1\\\\\n",
    "    \\end{bmatrix}\n",
    "$$\n"
   ]
  },
  {
   "cell_type": "markdown",
   "metadata": {
    "slideshow": {
     "slide_type": "fragment"
    }
   },
   "source": [
    "$$ \\vdots $$"
   ]
  },
  {
   "cell_type": "markdown",
   "metadata": {
    "slideshow": {
     "slide_type": "fragment"
    }
   },
   "source": [
    "Beispiel:\n",
    "$$\n",
    "\\left[\n",
    "\\begin{matrix}\n",
    "-1 & 1 & 1\\\\\n",
    "1 & -3 & -2\\\\\n",
    "5 & 1 & 4\\\\\n",
    "\\end{matrix}\n",
    "\\left|\n",
    "    \\,\n",
    "    \\begin{matrix}\n",
    "      0 \\\\\n",
    "      5  \\\\\n",
    "      3  \\\\\n",
    "    \\end{matrix}\n",
    "  \\right.\n",
    "\\right]\n",
    "$$"
   ]
  },
  {
   "cell_type": "markdown",
   "metadata": {
    "slideshow": {
     "slide_type": "fragment"
    }
   },
   "source": [
    "$$\n",
    "\\xrightarrow{II \\ - \\ \\color{blue}{(-1)}  I}\n",
    "\\left[\n",
    "\\begin{matrix}\n",
    "-1 & 1 & 1\\\\\n",
    "\\color{red}0 & -2 & -1\\\\\n",
    "5 & 1 & 4\\\\\n",
    "\\end{matrix}\n",
    "\\left|\n",
    "    \\,\n",
    "    \\begin{matrix}\n",
    "      0 \\\\\n",
    "      5  \\\\\n",
    "      3  \\\\\n",
    "    \\end{matrix}\n",
    "  \\right.\n",
    "\\right]\n",
    "$$"
   ]
  },
  {
   "cell_type": "markdown",
   "metadata": {
    "slideshow": {
     "slide_type": "fragment"
    }
   },
   "source": [
    "$$\n",
    "\\xrightarrow{III \\ - \\ \\color{blue}{(-5)}  I}\n",
    "\\left[\n",
    "\\begin{matrix}\n",
    "-1 & 1 & 1\\\\\n",
    "0 & -2 & -1\\\\\n",
    "\\color{red}0 & 6 & 9\\\\\n",
    "\\end{matrix}\n",
    "\\left|\n",
    "    \\,\n",
    "    \\begin{matrix}\n",
    "      0 \\\\\n",
    "      5  \\\\\n",
    "      3  \\\\\n",
    "    \\end{matrix}\n",
    "  \\right.\n",
    "\\right]\n",
    "$$"
   ]
  },
  {
   "cell_type": "markdown",
   "metadata": {
    "slideshow": {
     "slide_type": "fragment"
    }
   },
   "source": [
    "$$\n",
    "\\xrightarrow{III \\ - \\ \\color{blue}{(-3)}  II}\n",
    "\\left[\n",
    "\\begin{matrix}\n",
    "-1 & 1 & 1\\\\\n",
    "0 & -2 & -1\\\\\n",
    "0 & \\color{red}0 & 6\\\\\n",
    "\\end{matrix}\n",
    "\\left|\n",
    "    \\,\n",
    "    \\begin{matrix}\n",
    "      0 \\\\\n",
    "      5  \\\\\n",
    "      18  \\\\\n",
    "    \\end{matrix}\n",
    "  \\right.\n",
    "\\right]\n",
    "$$"
   ]
  },
  {
   "cell_type": "markdown",
   "metadata": {
    "slideshow": {
     "slide_type": "subslide"
    }
   },
   "source": [
    "<h3>Problem:</h3>\n",
    "\n",
    "$$\n",
    "\\left[\n",
    "\\begin{matrix}\n",
    "\\color{red}0 & 2 & 1\\\\\n",
    "1 & 3 & 2\\\\\n",
    "3 & 3 & 3\\\\\n",
    "\\end{matrix}\n",
    "\\left|\n",
    "    \\,\n",
    "    \\begin{matrix}\n",
    "      1  \\\\\n",
    "      2  \\\\\n",
    "      3  \\\\\n",
    "    \\end{matrix}\n",
    "  \\right.\n",
    "\\right]\n",
    "\\xrightarrow{II - \\frac{1}{0}I} \\; ?\n",
    "$$"
   ]
  },
  {
   "cell_type": "markdown",
   "metadata": {
    "slideshow": {
     "slide_type": "fragment"
    }
   },
   "source": [
    "<h3>Lösung: Mit einer anderen Zeile vertauschen</h3>\n",
    "\n",
    "Aber mit welcher Zeile?"
   ]
  },
  {
   "cell_type": "markdown",
   "metadata": {
    "slideshow": {
     "slide_type": "subslide"
    }
   },
   "source": [
    "<h2>Pivoting</h2>\n",
    "<br>\n",
    "Wir befinden uns im $k$-ten Eliminationsschritt, d.h. wir möchten alle Einträge unter $a_{k,k}$ eliminieren.\n",
    "<br>\n",
    "\n",
    "$\\Rightarrow$ Vertausche die Zeile $k$ mit der Zeile, in der sich das betragsmäßig größte Element der gleichen Spalte befindet\n"
   ]
  },
  {
   "cell_type": "markdown",
   "metadata": {
    "slideshow": {
     "slide_type": "fragment"
    }
   },
   "source": [
    "<h4>Zurück zu unserem Beispiel:</h4>\n",
    "\n",
    "$$\n",
    "\\left[\n",
    "\\begin{matrix}\n",
    "0 & 2 & 1\\\\\n",
    "1 & 3 & 2\\\\\n",
    "\\color{blue}3 & 3 & 3\\\\\n",
    "\\end{matrix}\n",
    "\\left|\n",
    "    \\,\n",
    "    \\begin{matrix}\n",
    "      1  \\\\\n",
    "      2  \\\\\n",
    "      3  \\\\\n",
    "    \\end{matrix}\n",
    "  \\right.\n",
    "\\right]\n",
    "$$"
   ]
  },
  {
   "cell_type": "markdown",
   "metadata": {
    "slideshow": {
     "slide_type": "fragment"
    }
   },
   "source": [
    "$$\n",
    "\\xrightarrow{III \\rightleftarrows I} \\; \n",
    "\\left[\n",
    "\\begin{matrix}\n",
    "3 & 3 & 3\\\\\n",
    "1 & 3 & 2\\\\\n",
    "0 & 2 & 1\\\\\n",
    "\\end{matrix}\n",
    "\\left|\n",
    "    \\,\n",
    "    \\begin{matrix}\n",
    "      3  \\\\\n",
    "      2  \\\\\n",
    "      1  \\\\\n",
    "    \\end{matrix}\n",
    "  \\right.\n",
    "\\right]\n",
    "$$"
   ]
  },
  {
   "cell_type": "markdown",
   "metadata": {
    "slideshow": {
     "slide_type": "fragment"
    }
   },
   "source": [
    "$$\n",
    "\\xrightarrow{II \\ - \\  \\color{blue}{\\frac{1}{3}}  I} \\; \n",
    "\\left[\n",
    "\\begin{matrix}\n",
    "3 & 3 & 3\\\\\n",
    "\\color{red}0 & 2 & 1\\\\\n",
    "0 & 2 & 1\\\\\n",
    "\\end{matrix}\n",
    "\\left|\n",
    "    \\,\n",
    "    \\begin{matrix}\n",
    "      3  \\\\\n",
    "      1  \\\\\n",
    "      1  \\\\\n",
    "    \\end{matrix}\n",
    "  \\right.\n",
    "\\right]\\\\\n",
    "$$"
   ]
  },
  {
   "cell_type": "markdown",
   "metadata": {
    "slideshow": {
     "slide_type": "fragment"
    }
   },
   "source": [
    "$$\n",
    "\\xrightarrow{III \\ - \\ \\color{blue}0  I} \\; \n",
    "\\left[\n",
    "\\begin{matrix}\n",
    "3 & 3 & 3\\\\\n",
    "0 & 2 & 1\\\\\n",
    "\\color{red}0 & 2 & 1\\\\\n",
    "\\end{matrix}\n",
    "\\left|\n",
    "    \\,\n",
    "    \\begin{matrix}\n",
    "      3  \\\\\n",
    "      1  \\\\\n",
    "      1  \\\\\n",
    "    \\end{matrix}\n",
    "  \\right.\n",
    "\\right]\n",
    "$$"
   ]
  },
  {
   "cell_type": "markdown",
   "metadata": {
    "slideshow": {
     "slide_type": "fragment"
    }
   },
   "source": [
    "$$\n",
    "\\xrightarrow{III \\ - \\ \\color{blue}1  II} \\; \n",
    "\\left[\n",
    "\\begin{matrix}\n",
    "3 & 3 & 3\\\\\n",
    "0 & 2 & 1\\\\\n",
    "0 & \\color{red}0 & 0\\\\\n",
    "\\end{matrix}\n",
    "\\left|\n",
    "    \\,\n",
    "    \\begin{matrix}\n",
    "      3  \\\\\n",
    "      1  \\\\\n",
    "      0  \\\\\n",
    "    \\end{matrix}\n",
    "  \\right.\n",
    "\\right]\n",
    "$$"
   ]
  },
  {
   "cell_type": "markdown",
   "metadata": {
    "slideshow": {
     "slide_type": "subslide"
    }
   },
   "source": [
    "<h3>Frage: Warum mit der Zeile mit dem betragsmäßig größten Element in der gleichen Spalte tauschen?</h3>"
   ]
  },
  {
   "cell_type": "markdown",
   "metadata": {
    "slideshow": {
     "slide_type": "fragment"
    }
   },
   "source": [
    "Antwort: <b>Gleitkommazahlen!</b>"
   ]
  },
  {
   "cell_type": "markdown",
   "metadata": {
    "slideshow": {
     "slide_type": "fragment"
    }
   },
   "source": [
    "$\\Rightarrow$ In jedem Eliminationsschritt entfernen wir uns immer mehr von der eigentlichen Lösung"
   ]
  },
  {
   "cell_type": "markdown",
   "metadata": {
    "slideshow": {
     "slide_type": "fragment"
    }
   },
   "source": [
    "Pivoting minimiert den numerischen Fehler und sollte <b>immer</b> verwendet werden!"
   ]
  },
  {
   "cell_type": "markdown",
   "metadata": {
    "slideshow": {
     "slide_type": "fragment"
    }
   },
   "source": [
    "Und wenn Pivoting fehlschlägt?\n",
    "\n",
    "<ul>\n",
    "    <li>Wenn man keine Zeile nach oben tauschen kann, sodass das Pivotelement $\\neq$ 0 ist</li>\n",
    "</ul>\n",
    "\n",
    "$\\Rightarrow$ Matrix ist singulär & LGS hat keine oder unendlich viele Lösungen"
   ]
  },
  {
   "cell_type": "markdown",
   "metadata": {
    "slideshow": {
     "slide_type": "slide"
    }
   },
   "source": [
    "<div class=\"text-center\">\n",
    "    <h1>Lösen von LGS Teil 2: Lösungsmenge bestimmen</h1>\n",
    "</div>"
   ]
  },
  {
   "cell_type": "markdown",
   "metadata": {
    "slideshow": {
     "slide_type": "subslide"
    }
   },
   "source": [
    "<h3>Rückwärtseinsetzen</h3>\n",
    "\n",
    "$$\n",
    "    \\begin{bmatrix}\n",
    "    a_{1,1} & a_{1,2} & ... & a_{1,n}\\\\\n",
    "    0 & a_{2,2} & ... & a_{2,n}\\\\\n",
    "    \\vdots & \\vdots & \\ddots & \\vdots\\\\\n",
    "    0 & 0 & ... & a_{n,n}\\\\\n",
    "    \\end{bmatrix}\n",
    "    \\begin{bmatrix}\n",
    "    x_1\\\\\n",
    "    x_2\\\\\n",
    "    \\vdots\\\\\n",
    "    x_n\\\\\n",
    "    \\end{bmatrix}\n",
    "    =\n",
    "    \\begin{bmatrix}\n",
    "    b_1\\\\\n",
    "    b_2\\\\\n",
    "    \\vdots\\\\\n",
    "    b_n\\\\\n",
    "    \\end{bmatrix}\n",
    "$$"
   ]
  },
  {
   "cell_type": "markdown",
   "metadata": {
    "slideshow": {
     "slide_type": "fragment"
    }
   },
   "source": [
    "$$\n",
    "\\begin{aligned}\n",
    "    b_n &= a_{n,n} x_n  &\\Rightarrow x_n &= \\frac{b_n}{a_{n,n}}\\\\\n",
    "    b_{n-1} &= a_{n-1,n-1} x_{n-1} + a_{n-1,n} x_{n} &\\Rightarrow x_{n-1} &= \\frac{b_{n-1} - a_{n-1,n} x_{n}}{a_{n-1,n-1}}\\\\\n",
    "    \\vdots\\\\\n",
    "    b_{1} &= a_{1,1} x_1 + ... + a_{1,n} x_n &\\Rightarrow x_1 &= \\frac{b_1 - a_{1,2} x_2 - \\ ... \\ - a_{1,n}x_n }{a_{1,1}}\\\\\n",
    "\\end{aligned}\n",
    "$$"
   ]
  },
  {
   "cell_type": "markdown",
   "metadata": {
    "slideshow": {
     "slide_type": "fragment"
    }
   },
   "source": [
    "<h4>Allgemeine Formel:</h4>\n",
    "\n",
    "$$\n",
    "    x_i = \\frac{b_i - \\sum_{j = i + 1}^{n} a_{i,j} x_j}{a_{i,i}}\n",
    "$$\n",
    "für $i$ von n bis 1."
   ]
  },
  {
   "cell_type": "markdown",
   "metadata": {
    "slideshow": {
     "slide_type": "fragment"
    }
   },
   "source": [
    "<h4>Rückwärtseinsetzen: Beispiel</h4>\n",
    "$$\n",
    "[A|b] = \\left[\n",
    "\\begin{matrix}\n",
    "-1 & 1 & 1\\\\\n",
    "1 & -3 & -2\\\\\n",
    "5 & 1 & 4\\\\\n",
    "\\end{matrix}\n",
    "\\left|\n",
    "    \\,\n",
    "    \\begin{matrix}\n",
    "      0  \\\\\n",
    "      5  \\\\\n",
    "      3  \\\\\n",
    "    \\end{matrix}\n",
    "  \\right.\n",
    "\\right]\n",
    "\\xrightarrow{\\text{ZSF}}\n",
    "\\left[\n",
    "\\begin{matrix}\n",
    "-1 & 1 & 1\\\\\n",
    "0 & -2 & -1\\\\\n",
    "0 & 0 & 6\\\\\n",
    "\\end{matrix}\n",
    "\\left|\n",
    "    \\,\n",
    "    \\begin{matrix}\n",
    "      0  \\\\\n",
    "      5  \\\\\n",
    "      18  \\\\\n",
    "    \\end{matrix}\n",
    "  \\right.\n",
    "\\right]\\\\\n",
    "$$\n",
    "\n",
    "$$\n",
    "\\begin{bmatrix}\n",
    "-1 & 1 & 1\\\\\n",
    "0 & -2 & -1\\\\\n",
    "0 & 0 & 6\\\\\n",
    "\\end{bmatrix} \\;\n",
    "\\begin{bmatrix}\n",
    "x_1\\\\\n",
    "x_2\\\\\n",
    "x_3\\\\\n",
    "\\end{bmatrix} =\n",
    "\\begin{bmatrix}\n",
    "0\\\\\n",
    "5\\\\\n",
    "18\\\\\n",
    "\\end{bmatrix}\n",
    "$$"
   ]
  },
  {
   "cell_type": "markdown",
   "metadata": {
    "slideshow": {
     "slide_type": "fragment"
    }
   },
   "source": [
    "$$ x_3 = \\frac{18}{6} = 3 $$"
   ]
  },
  {
   "cell_type": "markdown",
   "metadata": {
    "slideshow": {
     "slide_type": "fragment"
    }
   },
   "source": [
    "$$ x_2 = \\frac{5 - (-1) \\cdot x_3}{-2} = \\frac{5 - (-1) \\cdot 3}{-2} = -4 $$"
   ]
  },
  {
   "cell_type": "markdown",
   "metadata": {
    "slideshow": {
     "slide_type": "fragment"
    }
   },
   "source": [
    "$$ x_1 = \\frac{0 - 1 \\cdot x_2 - 1 \\cdot x_3}{-1} = \\frac{0 - 1 \\cdot (-4) - 1 \\cdot 3}{-1} = -1 $$"
   ]
  },
  {
   "cell_type": "markdown",
   "metadata": {
    "slideshow": {
     "slide_type": "fragment"
    }
   },
   "source": [
    "$$\n",
    "x = \\begin{bmatrix}\n",
    "-1\\\\\n",
    "-4\\\\\n",
    "3\\\\\n",
    "\\end{bmatrix}\n",
    "$$"
   ]
  },
  {
   "cell_type": "markdown",
   "metadata": {
    "slideshow": {
     "slide_type": "slide"
    }
   },
   "source": [
    "<div class=\"text-center\">\n",
    "    <h1>Laufzeit, Numerische Stabilität</h1>\n",
    "</div>"
   ]
  },
  {
   "cell_type": "markdown",
   "metadata": {
    "slideshow": {
     "slide_type": "subslide"
    }
   },
   "source": [
    "<h2>Matrixmultiplikation</h2>\n",
    "\n",
    "Gegeben:\n",
    "<ul>\n",
    "    <li>$A \\in \\mathbb{R}^{n \\times m}$</li>\n",
    "    <li>$B \\in \\mathbb{R}^{m \\times p}$</li>\n",
    "</ul>\n",
    "\n",
    "Es gilt: $AB \\in \\mathbb{R}^{n \\times p}$ mit\n",
    "\n",
    "$$\n",
    "    (AB)_{i, j} = \\underset{k = 1}{\\overset{m}{\\sum}} A_{i, k} B_{k, j}\n",
    "$$\n",
    "\n",
    "Wir berechnen $n \\cdot p$ Elemente mit einer Laufzeit von $O(m)$ pro Element. Die Gesamtlaufzeit ist $O(nmp)$."
   ]
  },
  {
   "cell_type": "markdown",
   "metadata": {
    "slideshow": {
     "slide_type": "fragment"
    }
   },
   "source": [
    "Sind $A$ und $B$ quadratisch, beträgt die Laufzeit $O(n^3)$, wobei n die Anzahl an Zeilen/Spalten ist."
   ]
  },
  {
   "cell_type": "markdown",
   "metadata": {
    "slideshow": {
     "slide_type": "fragment"
    }
   },
   "source": [
    "Bessere Algorithmen kommen auf $O(n^{2.807})$.<br><br>\n",
    "Siehe: <a href=\"https://en.wikipedia.org/wiki/Computational_complexity_of_mathematical_operations\">https://en.wikipedia.org/wiki/Computational_complexity_of_mathematical_operations</a>"
   ]
  },
  {
   "cell_type": "markdown",
   "metadata": {
    "slideshow": {
     "slide_type": "subslide"
    }
   },
   "source": [
    "<h2>Transponieren</h2>\n",
    "\n",
    "$$\n",
    "A = \\begin{bmatrix}\n",
    "a_{1,1} & a_{1,2} & ... & a_{1,m}\\\\\n",
    "a_{2,1} & a_{2,2} & ... & a_{2,m}\\\\\n",
    "\\vdots & \\vdots & \\ddots & \\vdots\\\\\n",
    "a_{n,1} & a_{n,2} & ... & a_{n,m}\\\\\n",
    "\\end{bmatrix} \\in \\mathbb{R}^{n \\times m} \\Longrightarrow\n",
    "A^\\mathsf{T} = \\begin{bmatrix}\n",
    "a_{1,1} & a_{2,1} & ... & a_{n,1}\\\\\n",
    "a_{1,2} & a_{2,2} & ... & a_{n,2}\\\\\n",
    "\\vdots & \\vdots & \\ddots & \\vdots\\\\\n",
    "a_{1,m} & a_{2,m} & ... & a_{n,m}\\\\\n",
    "\\end{bmatrix} \\in \\mathbb{R}^{m \\times n}\n",
    "$$\n",
    "\n",
    "$$\n",
    "    (A^\\mathsf{T})_{i,j} = A_{j,i}\n",
    "$$\n",
    "\n",
    "Laufzeit (naiv): $O(nm)$<br>\n",
    "Quadratische Matrix (naiv): $O(n^2)$\n",
    "\n",
    "Mit numpy:<br><code>B = A.T</code><br><code>B = A.transpose()</code>\n",
    "\n",
    "Laufzeit in der Praxis: $O(1)$"
   ]
  },
  {
   "cell_type": "markdown",
   "metadata": {
    "slideshow": {
     "slide_type": "subslide"
    }
   },
   "source": [
    "<h2>Lineare Gleichungssysteme</h2>\n",
    "\n",
    "Für reguläre Matrizen $A \\in \\mathbb{R}^{n \\times n}$:\n",
    "<ol>\n",
    "    <li>Gauß-Elimination: $O(n^3)$</li>\n",
    "    <li>Rückwärtseinsetzen: $O(n^2)$</li>\n",
    "</ol>\n",
    "\n",
    "Mit numpy:<br>\n",
    "<code>x = np.linalg.solve(A,b)</code>"
   ]
  },
  {
   "cell_type": "markdown",
   "metadata": {
    "slideshow": {
     "slide_type": "fragment"
    }
   },
   "source": [
    "<h3>Diagonalmatrix</h3>\n",
    "\n",
    "$$\n",
    "    \\begin{bmatrix}\n",
    "    a_{1,1} & 0 &... & 0\\\\\n",
    "    0 & a_{2,2} & ... & 0\\\\\n",
    "    \\vdots & \\vdots & \\ddots & \\vdots\\\\\n",
    "    0 & 0 &... & a_{n,n}\\\\\n",
    "    \\end{bmatrix}\n",
    "    \\begin{bmatrix}\n",
    "    x_1\\\\\n",
    "    x_2\\\\\n",
    "    \\vdots\\\\\n",
    "    x_n\\\\\n",
    "    \\end{bmatrix}\n",
    "    =\n",
    "    \\begin{bmatrix}\n",
    "    b_1\\\\\n",
    "    b_2\\\\\n",
    "    \\vdots\\\\\n",
    "    b_n\\\\\n",
    "    \\end{bmatrix}\n",
    "$$\n",
    "\n",
    "Lösung bestimmen durch:\n",
    "$\n",
    "    x_i = \\frac{b_i}{a_{i,i}}\n",
    "$\n",
    "\n",
    "Laufzeit: $O(n)$<br>\n",
    "\n",
    "Mit numpy:<br>\n",
    "<code>x = b / np.diag(A)</code>"
   ]
  },
  {
   "cell_type": "markdown",
   "metadata": {
    "slideshow": {
     "slide_type": "fragment"
    }
   },
   "source": [
    "<h3>Obere Dreiecksmatrix</h3>\n",
    "\n",
    "$$\n",
    "    \\begin{bmatrix}\n",
    "    a_{1,1} & a_{1,2} &... & a_{1,n}\\\\\n",
    "    0 & a_{2,2} & ... & a_{2,n}\\\\\n",
    "    \\vdots & \\vdots & \\ddots & \\vdots\\\\\n",
    "    0 & 0 &... & a_{n,n}\\\\\n",
    "    \\end{bmatrix}\n",
    "    \\begin{bmatrix}\n",
    "    x_1\\\\\n",
    "    x_2\\\\\n",
    "    \\vdots\\\\\n",
    "    x_n\\\\\n",
    "    \\end{bmatrix}\n",
    "    =\n",
    "    \\begin{bmatrix}\n",
    "    b_1\\\\\n",
    "    b_2\\\\\n",
    "    \\vdots\\\\\n",
    "    b_n\\\\\n",
    "    \\end{bmatrix}\n",
    "$$\n",
    "\n",
    "Lösung bestimmen durch: <b>Rückwärtseinsetzen</b><br>\n",
    "\n",
    "Laufzeit: $O(n^2)$<br>\n",
    "\n",
    "Mit scipy:<br>\n",
    "<code>x = sp.linalg.solve_triangular(A,b)</code>"
   ]
  },
  {
   "cell_type": "markdown",
   "metadata": {
    "slideshow": {
     "slide_type": "fragment"
    }
   },
   "source": [
    "<h3>Untere Dreiecksmatrix</h3>\n",
    "\n",
    "$$\n",
    "    \\begin{bmatrix}\n",
    "    a_{1,1} & 0 &... & 0\\\\\n",
    "    a_{2,1} & a_{2,2} & ... & 0\\\\\n",
    "    \\vdots & \\vdots & \\ddots & \\vdots\\\\\n",
    "    a_{n,1} & a_{n,2} &... & a_{n,n}\\\\\n",
    "    \\end{bmatrix}\n",
    "    \\begin{bmatrix}\n",
    "    x_1\\\\\n",
    "    x_2\\\\\n",
    "    \\vdots\\\\\n",
    "    x_n\\\\\n",
    "    \\end{bmatrix}\n",
    "    =\n",
    "    \\begin{bmatrix}\n",
    "    b_1\\\\\n",
    "    b_2\\\\\n",
    "    \\vdots\\\\\n",
    "    b_n\\\\\n",
    "    \\end{bmatrix}\n",
    "$$\n",
    "\n",
    "Lösung bestimmen durch: <b>Vorwärtseinsetzen</b><br>\n",
    "\n",
    "Laufzeit: $O(n^2)$<br>\n",
    "\n",
    "Mit scipy:<br>\n",
    "<code>x = sp.linalg.solve_triangular(A,b,lower=True)</code>"
   ]
  },
  {
   "cell_type": "markdown",
   "metadata": {
    "slideshow": {
     "slide_type": "subslide"
    }
   },
   "source": [
    "<h2>Inverse</h2>\n",
    "\n",
    "Sei $A \\in \\mathbb{R}^{n \\times n}$. Die Inverse von $A$ ist eine Matrix $A^{-1} \\in \\mathbb{R}^{n \\times n}$, sodass\n",
    "\n",
    "$$\n",
    "    A^{-1}A = AA^{-1} = I.\n",
    "$$"
   ]
  },
  {
   "cell_type": "markdown",
   "metadata": {
    "slideshow": {
     "slide_type": "fragment"
    }
   },
   "source": [
    "Ist $A$ invertierbar, kann man das LGS $Ax = b$ durch\n",
    "\n",
    "$$\n",
    "    x = A^{-1}b\n",
    "$$ \n",
    "\n",
    "lösen."
   ]
  },
  {
   "cell_type": "markdown",
   "metadata": {
    "slideshow": {
     "slide_type": "fragment"
    }
   },
   "source": [
    "Laufzeit: $O(n^3)$<br>\n",
    "Numerisch sehr instabil<br>\n",
    "\n",
    "Mit numpy:<br>\n",
    "<code>B = np.linalg.inv(A)</code><br>\n",
    "<code>#B = np.linalg.solve(A, np.identity(n))</code>"
   ]
  },
  {
   "cell_type": "markdown",
   "metadata": {
    "slideshow": {
     "slide_type": "fragment"
    }
   },
   "source": [
    "Falls A orthogonal ist, gilt:\n",
    "    \n",
    "$$\n",
    "A^{-1} = A^\\mathsf{T}\n",
    "$$"
   ]
  },
  {
   "cell_type": "markdown",
   "metadata": {
    "slideshow": {
     "slide_type": "slide"
    }
   },
   "source": [
    "<h2>Ausblick</h2>\n",
    "\n",
    "Die meisten LGS in der Praxis sind nicht lösbar<br>\n",
    "<h4>Gründe:</h4>\n",
    "<ol>\n",
    "    <li>Diskretisierung</li>\n",
    "    <li>Messfehler bzw. -genauigkeit</li>\n",
    "    <li>Gleitkommazahlen</li>\n",
    "    <li>Größe</li>\n",
    "</ol>\n",
    "\n",
    "<h3>Lösung: Ausgleichsrechnung</h3>\n",
    "\n",
    "$\\Rightarrow$ Nächstes Tutorium"
   ]
  }
 ],
 "metadata": {
  "celltoolbar": "Slideshow",
  "kernelspec": {
   "display_name": "Python 3",
   "language": "python",
   "name": "python3"
  },
  "language_info": {
   "codemirror_mode": {
    "name": "ipython",
    "version": 3
   },
   "file_extension": ".py",
   "mimetype": "text/x-python",
   "name": "python",
   "nbconvert_exporter": "python",
   "pygments_lexer": "ipython3",
   "version": "3.9.1"
  },
  "rise": {
   "scroll": true
  }
 },
 "nbformat": 4,
 "nbformat_minor": 4
}
