{
 "cells": [
  {
   "cell_type": "markdown",
   "metadata": {
    "slideshow": {
     "slide_type": "slide"
    }
   },
   "source": [
    "<h2>Aufgabe 1: Lineare Regression</h2>\n",
    "\n",
    "Gegeben sind drei Messpunkte $(x_i, y_i)$ mit den konkreten Messwerten:\n",
    "\n",
    "<ul>\n",
    "    <li>(1,1)</li>\n",
    "    <li>(2,2)</li>\n",
    "    <li>(3,2)</li>\n",
    "</ul>\n",
    "\n",
    "Gesucht sind zwei Funktionen $f$ und $g$, welche die drei Messpunkte approximieren. Dabei soll $f$ eine Gerade und $g$ ein quadratische Funktion sein."
   ]
  },
  {
   "cell_type": "markdown",
   "metadata": {
    "slideshow": {
     "slide_type": "fragment"
    }
   },
   "source": [
    "Das heißt:\n",
    "    \n",
    "$$\n",
    "    f(x) = ax + b\\\\\n",
    "    g(x) = ax^2 + bx + c\n",
    "$$"
   ]
  },
  {
   "cell_type": "markdown",
   "metadata": {
    "slideshow": {
     "slide_type": "fragment"
    }
   },
   "source": [
    "<h3>Aufgaben: </h3>\n",
    "<ol>\n",
    "    <li>Stell für beide Funktionen das zu lösende LGS auf!</li>\n",
    "    <li>Löse die LGS und gib die Funktionen $f$ und $g$ konkret an!</li>\n",
    "</ol>"
   ]
  },
  {
   "cell_type": "markdown",
   "metadata": {
    "slideshow": {
     "slide_type": "fragment"
    }
   },
   "source": [
    "Für eine Gerade sieht eine mögliche allgemeine Systemmatrix wie folgt aus:\n",
    "\n",
    "$$\n",
    "    \\begin{bmatrix}\n",
    "        1 & x_1\\\\\n",
    "        1 & x_2\\\\\n",
    "        \\vdots & \\vdots\\\\\n",
    "        1 & x_n\n",
    "    \\end{bmatrix}\n",
    "$$"
   ]
  },
  {
   "cell_type": "markdown",
   "metadata": {
    "slideshow": {
     "slide_type": "fragment"
    }
   },
   "source": [
    "Für eine quadratische Funktion sieht eine mögliche allgemeine Systemmatrix wie folgt aus:\n",
    "\n",
    "$$\n",
    "    \\begin{bmatrix}\n",
    "        1 & x_1 & x_1^2\\\\\n",
    "        1 & x_2 & x_2^2\\\\\n",
    "        \\vdots & \\vdots & \\vdots\\\\\n",
    "        1 & x_n & x_n^2\n",
    "    \\end{bmatrix}\n",
    "$$"
   ]
  },
  {
   "cell_type": "markdown",
   "metadata": {
    "slideshow": {
     "slide_type": "fragment"
    }
   },
   "source": [
    "Für die Gerade sieht ein mögliches LGS so aus:\n",
    "\n",
    "$$\n",
    "    \\begin{bmatrix}\n",
    "    1 & 1\\\\\n",
    "    1 & 2\\\\\n",
    "    1 & 3\\\\\n",
    "    \\end{bmatrix}\n",
    "    \\begin{bmatrix} b \\\\ a \\end{bmatrix} = \\begin{bmatrix} 1 \\\\ 2 \\\\ 2\\end{bmatrix}\n",
    "$$"
   ]
  },
  {
   "cell_type": "markdown",
   "metadata": {
    "slideshow": {
     "slide_type": "fragment"
    }
   },
   "source": [
    "Lösen mit der Normalengleichung:\n",
    "    \n",
    "$$\n",
    "\\begin{bmatrix}\n",
    "    1 & 1 & 1\\\\\n",
    "    1 & 2 & 3\\\\\n",
    "    \\end{bmatrix}\n",
    "    \\begin{bmatrix}\n",
    "    1 & 1\\\\\n",
    "    1 & 2\\\\\n",
    "    1 & 3\\\\\n",
    "    \\end{bmatrix}\n",
    "    \\begin{bmatrix} b \\\\ a \\end{bmatrix} = \n",
    "    \\begin{bmatrix}\n",
    "    1 & 1 & 1\\\\\n",
    "    1 & 2 & 3\\\\\n",
    "    \\end{bmatrix}\n",
    "    \\begin{bmatrix} 1 \\\\ 2 \\\\ 2\\end{bmatrix}\n",
    "$$"
   ]
  },
  {
   "cell_type": "markdown",
   "metadata": {
    "slideshow": {
     "slide_type": "fragment"
    }
   },
   "source": [
    "$$\n",
    "    \\begin{bmatrix}\n",
    "    3 & 6\\\\\n",
    "    6 & 14\\\\\n",
    "    \\end{bmatrix}\n",
    "    \\begin{bmatrix} b \\\\ a \\end{bmatrix} = \n",
    "    \\begin{bmatrix} 5 \\\\ 11\\end{bmatrix}\n",
    "$$"
   ]
  },
  {
   "cell_type": "markdown",
   "metadata": {
    "slideshow": {
     "slide_type": "fragment"
    }
   },
   "source": [
    "$$\n",
    "\\begin{bmatrix} b \\\\ a \\end{bmatrix} = \\begin{bmatrix} \\frac{2}{3} \\\\ \\frac{1}{2} \\end{bmatrix}\n",
    "$$"
   ]
  },
  {
   "cell_type": "markdown",
   "metadata": {
    "slideshow": {
     "slide_type": "fragment"
    }
   },
   "source": [
    "$$\n",
    "    f(x) = \\frac{1}{2}x + \\frac{2}{3}\n",
    "$$"
   ]
  },
  {
   "cell_type": "markdown",
   "metadata": {
    "slideshow": {
     "slide_type": "fragment"
    }
   },
   "source": [
    "<img src=\"imgs/aufg1.png\" style=\"margin:auto;\" width=\"40%\" />"
   ]
  },
  {
   "cell_type": "markdown",
   "metadata": {
    "slideshow": {
     "slide_type": "fragment"
    }
   },
   "source": [
    "Für die quadratische Funktion sieht ein möglich LGS so aus:\n",
    "    \n",
    "$$\n",
    "    \\begin{bmatrix}\n",
    "    1 & 1 & 1\\\\\n",
    "    1 & 2 & 4\\\\\n",
    "    1 & 3 & 9\\\\\n",
    "    \\end{bmatrix}\n",
    "    \\begin{bmatrix} c \\\\ b \\\\ a \\end{bmatrix} = \\begin{bmatrix} 1 \\\\ 2 \\\\ 2\\end{bmatrix}\n",
    "$$"
   ]
  },
  {
   "cell_type": "markdown",
   "metadata": {
    "slideshow": {
     "slide_type": "fragment"
    }
   },
   "source": [
    "Dieses LGS hat eine Lösung!\n",
    "\n",
    "$$\n",
    "    \\begin{bmatrix} c \\\\ b \\\\ a \\end{bmatrix} = \\begin{bmatrix} -1 \\\\ 2.5 \\\\ -0.5 \\end{bmatrix}\n",
    "$$"
   ]
  },
  {
   "cell_type": "markdown",
   "metadata": {
    "slideshow": {
     "slide_type": "fragment"
    }
   },
   "source": [
    "Und mit der Normalengleichung?\n",
    "    \n",
    "$$\n",
    "\\begin{bmatrix}\n",
    "    1 & 1 & 1\\\\\n",
    "    1 & 2 & 3\\\\\n",
    "    1 & 4 & 9\\\\\n",
    "    \\end{bmatrix}\n",
    "    \\begin{bmatrix}\n",
    "    1 & 1 & 1\\\\\n",
    "    1 & 2 & 4\\\\\n",
    "    1 & 3 & 9\\\\\n",
    "    \\end{bmatrix}\n",
    "    \\begin{bmatrix} c \\\\ b \\\\ a \\end{bmatrix} = \\begin{bmatrix}\n",
    "    1 & 1 & 1\\\\\n",
    "    1 & 2 & 3\\\\\n",
    "    1 & 4 & 9\\\\\n",
    "    \\end{bmatrix}\n",
    "    \\begin{bmatrix} 1 \\\\ 2 \\\\ 2\\end{bmatrix}\n",
    "$$"
   ]
  },
  {
   "cell_type": "markdown",
   "metadata": {
    "slideshow": {
     "slide_type": "fragment"
    }
   },
   "source": [
    "$$\n",
    "    \\begin{bmatrix}\n",
    "    3 & 6 & 14\\\\\n",
    "    6 & 14 & 36\\\\\n",
    "    14 & 36 & 98\\\\\n",
    "    \\end{bmatrix}\n",
    "    \\begin{bmatrix} c \\\\ b \\\\ a \\end{bmatrix} = \n",
    "    \\begin{bmatrix} 5 \\\\ 11 \\\\ 27 \\end{bmatrix}\n",
    "$$"
   ]
  },
  {
   "cell_type": "markdown",
   "metadata": {
    "slideshow": {
     "slide_type": "fragment"
    }
   },
   "source": [
    "Gleiche Lösung!\n",
    "\n",
    "$$\n",
    "    \\begin{bmatrix} c \\\\ b \\\\ a \\end{bmatrix} = \\begin{bmatrix} -1 \\\\ 2.5 \\\\ -0.5 \\end{bmatrix}\n",
    "$$"
   ]
  },
  {
   "cell_type": "markdown",
   "metadata": {
    "slideshow": {
     "slide_type": "fragment"
    }
   },
   "source": [
    "$$\n",
    "    g(x) = -0.5x^2 + 2.5x - 1\n",
    "$$"
   ]
  },
  {
   "cell_type": "markdown",
   "metadata": {
    "slideshow": {
     "slide_type": "fragment"
    }
   },
   "source": [
    "<div class=\"text-center\">\n",
    "<b>Das ist eine Interpolation!</b>\n",
    "    \n",
    "<img src=\"imgs/aufg2.png\" style=\"margin:auto;\" width=\"40%\" />\n",
    "</div>"
   ]
  },
  {
   "cell_type": "markdown",
   "metadata": {
    "slideshow": {
     "slide_type": "slide"
    }
   },
   "source": [
    "<h2>Aufgabe 2: Cholesky-Zerlegung</h2>"
   ]
  },
  {
   "cell_type": "markdown",
   "metadata": {
    "slideshow": {
     "slide_type": "fragment"
    }
   },
   "source": [
    "Berechne die Cholesky-Zerlegung folgender Matrizen:\n",
    "    \n",
    "$$ A =\n",
    "    \\begin{bmatrix}\n",
    "    4 & 0 & 0 & 0\\\\\n",
    "    0 & 9 & 0 & 0\\\\\n",
    "    0 & 0 & 36 & 0\\\\\n",
    "    0 & 0 & 0 & 16\\\\\n",
    "    \\end{bmatrix} \\quad\n",
    "    B = \\begin{bmatrix}\n",
    "    4 & 2 & 2 & 8 \\\\\n",
    "    2 & 10 & 10 & 7 \\\\\n",
    "    2 & 10 & 11 & 9 \\\\\n",
    "    8 & 7 & 9 & 22\n",
    "\\end{bmatrix}\n",
    "$$"
   ]
  },
  {
   "cell_type": "markdown",
   "metadata": {
    "slideshow": {
     "slide_type": "fragment"
    }
   },
   "source": [
    "Für A:\n",
    "    \n",
    "$$\n",
    "    L = \n",
    "    \\begin{bmatrix}\n",
    "    2 & 0 & 0 & 0\\\\\n",
    "    0 & 3 & 0 & 0\\\\\n",
    "    0 & 0 & 6 & 0\\\\\n",
    "    0 & 0 & 0 & 4\\\\\n",
    "    \\end{bmatrix}\n",
    "$$"
   ]
  },
  {
   "cell_type": "markdown",
   "metadata": {
    "slideshow": {
     "slide_type": "notes"
    }
   },
   "source": [
    "Für Diagonalmatrizen einfach die Wurzeln der Diagonalterme bilden"
   ]
  },
  {
   "cell_type": "markdown",
   "metadata": {
    "slideshow": {
     "slide_type": "fragment"
    }
   },
   "source": [
    "Für B:"
   ]
  },
  {
   "cell_type": "markdown",
   "metadata": {
    "slideshow": {
     "slide_type": "fragment"
    }
   },
   "source": [
    "$$\n",
    "l_{1,1} = \\sqrt{\\color{red}4} = \\color{blue}2\n",
    "$$\n",
    "\n",
    "$$\n",
    "B = \\begin{bmatrix}\n",
    "    \\color{red}4 & 2 & 2 & 8 \\\\\n",
    "    2 & 10 & 10 & 7 \\\\\n",
    "    2 & 10 & 11 & 9 \\\\\n",
    "    8 & 7 & 9 & 22\n",
    "\\end{bmatrix}\n",
    "\\quad\n",
    "L = \\begin{bmatrix}\n",
    "\\color{blue}2 & 0 & 0 & 0\\\\\n",
    "? & ? & 0 & 0\\\\\n",
    "? & ? & ? & 0\\\\\n",
    "? & ? & ? & ?\\\\\n",
    "\\end{bmatrix}\n",
    "$$"
   ]
  },
  {
   "cell_type": "markdown",
   "metadata": {
    "slideshow": {
     "slide_type": "fragment"
    }
   },
   "source": [
    "$$\n",
    "l_{2,1} = \\frac{1}{\\color{green}2} \\color{red}2 = \\color{blue}1\n",
    "$$\n",
    "\n",
    "$$\n",
    "B = \\begin{bmatrix}\n",
    "    4 & 2 & 2 & 8 \\\\\n",
    "    \\color{red}2 & 10 & 10 & 7 \\\\\n",
    "    2 & 10 & 11 & 9 \\\\\n",
    "    8 & 7 & 9 & 22\n",
    "\\end{bmatrix}\n",
    "\\quad\n",
    "L = \\begin{bmatrix}\n",
    "\\color{green}2 & 0 & 0 & 0\\\\\n",
    "\\color{blue}1 & ? & 0 & 0\\\\\n",
    "? & ? & ? & 0\\\\\n",
    "? & ? & ? & ?\\\\\n",
    "\\end{bmatrix}\n",
    "$$"
   ]
  },
  {
   "cell_type": "markdown",
   "metadata": {
    "slideshow": {
     "slide_type": "fragment"
    }
   },
   "source": [
    "$$\n",
    "l_{2,2} = \\sqrt{\\color{red}{10} - \\color{green}1^2} = \\color{blue}3\n",
    "$$\n",
    "\n",
    "$$\n",
    "B = \\begin{bmatrix}\n",
    "    4 & 2 & 2 & 8 \\\\\n",
    "    2 & \\color{red}{10} & 10 & 7 \\\\\n",
    "    2 & 10 & 11 & 9 \\\\\n",
    "    8 & 7 & 9 & 22\n",
    "\\end{bmatrix}\n",
    "\\quad\n",
    "L = \\begin{bmatrix}\n",
    "2 & 0 & 0 & 0\\\\\n",
    "\\color{green}1 & \\color{blue}3 & 0 & 0\\\\\n",
    "? & ? & ? & 0\\\\\n",
    "? & ? & ? & ?\\\\\n",
    "\\end{bmatrix}\n",
    "$$"
   ]
  },
  {
   "cell_type": "markdown",
   "metadata": {
    "slideshow": {
     "slide_type": "fragment"
    }
   },
   "source": [
    "$$\n",
    "l_{3,1} = \\frac{1}{\\color{green}2}  \\color{red}2 = \\color{blue} 1\n",
    "$$\n",
    "\n",
    "$$\n",
    "B = \\begin{bmatrix}\n",
    "    4 & 2 & 2 & 8 \\\\\n",
    "    2 & 10 & 10 & 7 \\\\\n",
    "    \\color{red}2 & 10 & 11 & 9 \\\\\n",
    "    8 & 7 & 9 & 22\n",
    "\\end{bmatrix}\n",
    "\\quad\n",
    "L = \\begin{bmatrix}\n",
    "\\color{green}2 & 0 & 0 & 0\\\\\n",
    "1 & 3 & 0 & 0\\\\\n",
    "\\color{blue}1 & ? & ? & 0\\\\\n",
    "? & ? & ? & ?\\\\\n",
    "\\end{bmatrix}\n",
    "$$"
   ]
  },
  {
   "cell_type": "markdown",
   "metadata": {
    "slideshow": {
     "slide_type": "fragment"
    }
   },
   "source": [
    "$$\n",
    "l_{3,2} = \\frac{1}{\\color{green}3} (\\color{red}{10} - \\color{orange}1 \\cdot \\color{orange}1) = \\color{blue} 3\n",
    "$$\n",
    "\n",
    "$$\n",
    "B = \\begin{bmatrix}\n",
    "    4 & 2 & 2 & 8 \\\\\n",
    "    2 & 10 & 10 & 7 \\\\\n",
    "    2 & \\color{red}{10} & 11 & 9 \\\\\n",
    "    8 & 7 & 9 & 22\n",
    "\\end{bmatrix}\n",
    "\\quad\n",
    "L = \\begin{bmatrix}\n",
    "2 & 0 & 0 & 0\\\\\n",
    "\\color{orange}1 & \\color{green}3 & 0 & 0\\\\\n",
    "\\color{orange}1 & \\color{blue}3 & ? & 0\\\\\n",
    "? & ? & ? & ?\\\\\n",
    "\\end{bmatrix}\n",
    "$$"
   ]
  },
  {
   "cell_type": "markdown",
   "metadata": {
    "slideshow": {
     "slide_type": "fragment"
    }
   },
   "source": [
    "$$\n",
    "l_{3,3} = \\sqrt{\\color{red} {11} - \\color{green} 3^2 - \\color{green} 1^2} = \\color{blue}1\n",
    "$$\n",
    "\n",
    "$$\n",
    "B = \\begin{bmatrix}\n",
    "    4 & 2 & 2 & 8 \\\\\n",
    "    2 & 10 & 10 & 7 \\\\\n",
    "    2 & 10 & \\color{red}{11} & 9 \\\\\n",
    "    8 & 7 & 9 & 22\n",
    "\\end{bmatrix}\n",
    "\\quad\n",
    "L = \\begin{bmatrix}\n",
    "2 & 0 & 0 & 0\\\\\n",
    "1 & 3 & 0 & 0\\\\\n",
    "\\color{green}1 & \\color{green}3 & \\color{blue}1 & 0\\\\\n",
    "? & ? & ? & ?\\\\\n",
    "\\end{bmatrix}\n",
    "$$"
   ]
  },
  {
   "cell_type": "markdown",
   "metadata": {
    "slideshow": {
     "slide_type": "fragment"
    }
   },
   "source": [
    "$$\n",
    "l_{4,1} = \\frac{1}{\\color{green}2} \\color{red} 8 = \\color{blue}4\n",
    "$$\n",
    "\n",
    "$$\n",
    "B = \\begin{bmatrix}\n",
    "    4 & 2 & 2 & 8 \\\\\n",
    "    2 & 10 & 10 & 7 \\\\\n",
    "    2 & 10 & 11 & 9 \\\\\n",
    "    \\color{red}8 & 7 & 9 & 22\n",
    "\\end{bmatrix}\n",
    "\\quad\n",
    "L = \\begin{bmatrix}\n",
    "\\color{green}2 & 0 & 0 & 0\\\\\n",
    "1 & 3 & 0 & 0\\\\\n",
    "1 & 3 & 1 & 0\\\\\n",
    "\\color{blue}4 & ? & ? & ?\\\\\n",
    "\\end{bmatrix}\n",
    "$$"
   ]
  },
  {
   "cell_type": "markdown",
   "metadata": {
    "slideshow": {
     "slide_type": "fragment"
    }
   },
   "source": [
    "$$\n",
    "l_{4,2} = \\frac{1}{\\color{green}3} \\color{red} (\\color{red}7 - \\color{orange}4 \\cdot \\color{orange}1) = \\color{blue}1\n",
    "$$\n",
    "\n",
    "$$\n",
    "B = \\begin{bmatrix}\n",
    "    4 & 2 & 2 & 8 \\\\\n",
    "    2 & 10 & 10 & 7 \\\\\n",
    "    2 & 10 & 11 & 9 \\\\\n",
    "    8 & \\color{red}7 & 9 & 22\n",
    "\\end{bmatrix}\n",
    "\\quad\n",
    "L = \\begin{bmatrix}\n",
    "2 & 0 & 0 & 0\\\\\n",
    "\\color{orange}1 & \\color{green}3 & 0 & 0\\\\\n",
    "1 & 3 & 1 & 0\\\\\n",
    "\\color{orange}4 & \\color{blue}1 & ? & ?\\\\\n",
    "\\end{bmatrix}\n",
    "$$"
   ]
  },
  {
   "cell_type": "markdown",
   "metadata": {
    "slideshow": {
     "slide_type": "fragment"
    }
   },
   "source": [
    "$$\n",
    "l_{4,3} = \\frac{1}{\\color{green}1} \\color{red} (\\color{red}9 - \\color{orange}4 \\cdot \\color{orange}1 - \\color{purple} 1 \\cdot \\color{purple} 3) = \\color{blue}2\n",
    "$$\n",
    "\n",
    "$$\n",
    "B = \\begin{bmatrix}\n",
    "    4 & 2 & 2 & 8 \\\\\n",
    "    2 & 10 & 10 & 7 \\\\\n",
    "    2 & 10 & 11 & 9 \\\\\n",
    "    8 & 7 & \\color{red}9 & 22\n",
    "\\end{bmatrix}\n",
    "\\quad\n",
    "L = \\begin{bmatrix}\n",
    "2 & 0 & 0 & 0\\\\\n",
    "1 & 3 & 0 & 0\\\\\n",
    "\\color{orange}1 & \\color{purple}3 & \\color{green}1 & 0\\\\\n",
    "\\color{orange}4 & \\color{purple}1 & \\color{blue}2 & ?\\\\\n",
    "\\end{bmatrix}\n",
    "$$"
   ]
  },
  {
   "cell_type": "markdown",
   "metadata": {
    "slideshow": {
     "slide_type": "fragment"
    }
   },
   "source": [
    "$$\n",
    "l_{4,4} = \\sqrt{\\color{red}{22} - \\color{green}4^2 - \\color{green}1^2 - \\color{green}2^2} = \\color{blue}1\n",
    "$$\n",
    "\n",
    "$$\n",
    "B = \\begin{bmatrix}\n",
    "    4 & 2 & 2 & 8 \\\\\n",
    "    2 & 10 & 10 & 7 \\\\\n",
    "    2 & 10 & 11 & 9 \\\\\n",
    "    8 & 7 & 9 & \\color{red}{22}\n",
    "\\end{bmatrix}\n",
    "\\quad\n",
    "L = \\begin{bmatrix}\n",
    "2 & 0 & 0 & 0\\\\\n",
    "1 & 3 & 0 & 0\\\\\n",
    "1 & 3 & 1 & 0\\\\\n",
    "\\color{green}4 & \\color{green}1 & \\color{green}2 & \\color{blue}1\\\\\n",
    "\\end{bmatrix}\n",
    "$$"
   ]
  }
 ],
 "metadata": {
  "celltoolbar": "Slideshow",
  "kernelspec": {
   "display_name": "Python 3",
   "language": "python",
   "name": "python3"
  },
  "language_info": {
   "codemirror_mode": {
    "name": "ipython",
    "version": 3
   },
   "file_extension": ".py",
   "mimetype": "text/x-python",
   "name": "python",
   "nbconvert_exporter": "python",
   "pygments_lexer": "ipython3",
   "version": "3.9.1"
  }
 },
 "nbformat": 4,
 "nbformat_minor": 4
}
